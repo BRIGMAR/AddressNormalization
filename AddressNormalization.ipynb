{
 "cells": [
  {
   "attachments": {},
   "cell_type": "markdown",
   "metadata": {},
   "source": [
    "# Address Standardization and Normalization"
   ]
  },
  {
   "attachments": {},
   "cell_type": "markdown",
   "metadata": {},
   "source": [
    "## Install the required modules and import them"
   ]
  },
  {
   "cell_type": "code",
   "execution_count": 1,
   "metadata": {},
   "outputs": [
    {
     "name": "stdout",
     "output_type": "stream",
     "text": [
      "Requirement already satisfied: translitcodec in c:\\users\\brian.marston\\appdata\\local\\programs\\python\\python310\\lib\\site-packages (0.7.0)\n",
      "Note: you may need to restart the kernel to use updated packages.\n"
     ]
    },
    {
     "name": "stderr",
     "output_type": "stream",
     "text": [
      "\n",
      "[notice] A new release of pip is available: 23.0.1 -> 23.1.2\n",
      "[notice] To update, run: python.exe -m pip install --upgrade pip\n"
     ]
    },
    {
     "name": "stdout",
     "output_type": "stream",
     "text": [
      "Requirement already satisfied: pandas in c:\\users\\brian.marston\\appdata\\local\\programs\\python\\python310\\lib\\site-packages (1.4.3)\n",
      "Requirement already satisfied: pytz>=2020.1 in c:\\users\\brian.marston\\appdata\\local\\programs\\python\\python310\\lib\\site-packages (from pandas) (2022.1)\n",
      "Requirement already satisfied: numpy>=1.21.0 in c:\\users\\brian.marston\\appdata\\local\\programs\\python\\python310\\lib\\site-packages (from pandas) (1.23.1)\n",
      "Requirement already satisfied: python-dateutil>=2.8.1 in c:\\users\\brian.marston\\appdata\\local\\programs\\python\\python310\\lib\\site-packages (from pandas) (2.8.2)\n",
      "Requirement already satisfied: six>=1.5 in c:\\users\\brian.marston\\appdata\\local\\programs\\python\\python310\\lib\\site-packages (from python-dateutil>=2.8.1->pandas) (1.16.0)\n",
      "Note: you may need to restart the kernel to use updated packages.\n"
     ]
    },
    {
     "name": "stderr",
     "output_type": "stream",
     "text": [
      "\n",
      "[notice] A new release of pip is available: 23.0.1 -> 23.1.2\n",
      "[notice] To update, run: python.exe -m pip install --upgrade pip\n"
     ]
    },
    {
     "name": "stdout",
     "output_type": "stream",
     "text": [
      "Requirement already satisfied: numpy in c:\\users\\brian.marston\\appdata\\local\\programs\\python\\python310\\lib\\site-packages (1.23.1)\n",
      "Note: you may need to restart the kernel to use updated packages.\n"
     ]
    },
    {
     "name": "stderr",
     "output_type": "stream",
     "text": [
      "\n",
      "[notice] A new release of pip is available: 23.0.1 -> 23.1.2\n",
      "[notice] To update, run: python.exe -m pip install --upgrade pip\n"
     ]
    },
    {
     "name": "stdout",
     "output_type": "stream",
     "text": [
      "Note: you may need to restart the kernel to use updated packages.\n"
     ]
    },
    {
     "name": "stderr",
     "output_type": "stream",
     "text": [
      "\n",
      "[notice] A new release of pip is available: 23.0.1 -> 23.1.2\n",
      "[notice] To update, run: python.exe -m pip install --upgrade pip\n"
     ]
    },
    {
     "name": "stdout",
     "output_type": "stream",
     "text": [
      "Requirement already satisfied: number-parser in c:\\users\\brian.marston\\appdata\\local\\programs\\python\\python310\\lib\\site-packages (0.3.0)\n",
      "Requirement already satisfied: attrs>=17.3.0 in c:\\users\\brian.marston\\appdata\\local\\programs\\python\\python310\\lib\\site-packages (from number-parser) (22.2.0)\n",
      "Requirement already satisfied: pyarrow in c:\\users\\brian.marston\\appdata\\local\\programs\\python\\python310\\lib\\site-packages (11.0.0)\n",
      "Requirement already satisfied: numpy>=1.16.6 in c:\\users\\brian.marston\\appdata\\local\\programs\\python\\python310\\lib\\site-packages (from pyarrow) (1.23.1)\n",
      "Note: you may need to restart the kernel to use updated packages.\n"
     ]
    },
    {
     "name": "stderr",
     "output_type": "stream",
     "text": [
      "\n",
      "[notice] A new release of pip is available: 23.0.1 -> 23.1.2\n",
      "[notice] To update, run: python.exe -m pip install --upgrade pip\n"
     ]
    }
   ],
   "source": [
    "%pip install translitcodec\n",
    "#%pip install codecs\n",
    "%pip install pandas\n",
    "%pip install numpy\n",
    "%pip install number-parser\n",
    "%pip install pyarrow"
   ]
  },
  {
   "cell_type": "code",
   "execution_count": 2,
   "metadata": {},
   "outputs": [],
   "source": [
    "import translitcodec\n",
    "import codecs\n",
    "from number_parser import parse\n",
    "import pandas as pd\n",
    "import numpy as np\n",
    "import pyarrow\n",
    "import re\n",
    "import random\n",
    "import os"
   ]
  },
  {
   "attachments": {},
   "cell_type": "markdown",
   "metadata": {},
   "source": [
    "## Load our addresses from pipe-delimited file and save as feather file"
   ]
  },
  {
   "cell_type": "code",
   "execution_count": 3,
   "metadata": {},
   "outputs": [],
   "source": [
    "dataset_txt     = 'datasets/addresses.txt'\n",
    "dataset_feather = 'datasets/addresses.feather'\n",
    "if not os.path.exists(dataset_feather):\n",
    "    pd.read_csv(dataset_txt, sep='|', index_col=False, na_filter=False)\\\n",
    "      .to_feather(dataset_feather)"
   ]
  },
  {
   "attachments": {},
   "cell_type": "markdown",
   "metadata": {},
   "source": [
    "## Load our feather file"
   ]
  },
  {
   "cell_type": "code",
   "execution_count": 5,
   "metadata": {},
   "outputs": [
    {
     "data": {
      "text/html": [
       "<div>\n",
       "<style scoped>\n",
       "    .dataframe tbody tr th:only-of-type {\n",
       "        vertical-align: middle;\n",
       "    }\n",
       "\n",
       "    .dataframe tbody tr th {\n",
       "        vertical-align: top;\n",
       "    }\n",
       "\n",
       "    .dataframe thead th {\n",
       "        text-align: right;\n",
       "    }\n",
       "</style>\n",
       "<table border=\"1\" class=\"dataframe\">\n",
       "  <thead>\n",
       "    <tr style=\"text-align: right;\">\n",
       "      <th></th>\n",
       "      <th>streetAddress</th>\n",
       "      <th>city</th>\n",
       "      <th>stateAbbr</th>\n",
       "      <th>postcode</th>\n",
       "    </tr>\n",
       "  </thead>\n",
       "  <tbody>\n",
       "    <tr>\n",
       "      <th>0</th>\n",
       "      <td>73379 Pfeffer Lodge Apt. 730</td>\n",
       "      <td>Giovannyfurt</td>\n",
       "      <td>CA</td>\n",
       "      <td>37698</td>\n",
       "    </tr>\n",
       "    <tr>\n",
       "      <th>1</th>\n",
       "      <td>2415 Adams Station Apt. 910</td>\n",
       "      <td>North Clydemouth</td>\n",
       "      <td>LA</td>\n",
       "      <td>35202</td>\n",
       "    </tr>\n",
       "    <tr>\n",
       "      <th>2</th>\n",
       "      <td>663 Feest Field</td>\n",
       "      <td>Wilmerchester</td>\n",
       "      <td>IL</td>\n",
       "      <td>77295-0882</td>\n",
       "    </tr>\n",
       "    <tr>\n",
       "      <th>3</th>\n",
       "      <td>41517 Gislason Plain Apt. 394</td>\n",
       "      <td>Juddville</td>\n",
       "      <td>TX</td>\n",
       "      <td>69059</td>\n",
       "    </tr>\n",
       "    <tr>\n",
       "      <th>4</th>\n",
       "      <td>5378 Alisa Walks</td>\n",
       "      <td>Corrinestad</td>\n",
       "      <td>NV</td>\n",
       "      <td>23062-7166</td>\n",
       "    </tr>\n",
       "    <tr>\n",
       "      <th>...</th>\n",
       "      <td>...</td>\n",
       "      <td>...</td>\n",
       "      <td>...</td>\n",
       "      <td>...</td>\n",
       "    </tr>\n",
       "    <tr>\n",
       "      <th>199</th>\n",
       "      <td>61148 Cheyanne Mount Apt. 801</td>\n",
       "      <td>West Chaya</td>\n",
       "      <td>TN</td>\n",
       "      <td>94553-9083</td>\n",
       "    </tr>\n",
       "    <tr>\n",
       "      <th>200</th>\n",
       "      <td>757 Third Ave, Third Floor</td>\n",
       "      <td>New York</td>\n",
       "      <td>NY</td>\n",
       "      <td>10011</td>\n",
       "    </tr>\n",
       "    <tr>\n",
       "      <th>201</th>\n",
       "      <td>757 3rd Avenue, 3rd Fl</td>\n",
       "      <td>New York</td>\n",
       "      <td>NY</td>\n",
       "      <td>10011</td>\n",
       "    </tr>\n",
       "    <tr>\n",
       "      <th>202</th>\n",
       "      <td>757 3 Ave, Fl 3</td>\n",
       "      <td>New York</td>\n",
       "      <td>NY</td>\n",
       "      <td>10011</td>\n",
       "    </tr>\n",
       "    <tr>\n",
       "      <th>203</th>\n",
       "      <td>58 Große Straße</td>\n",
       "      <td>München</td>\n",
       "      <td></td>\n",
       "      <td></td>\n",
       "    </tr>\n",
       "  </tbody>\n",
       "</table>\n",
       "<p>204 rows × 4 columns</p>\n",
       "</div>"
      ],
      "text/plain": [
       "                     streetAddress              city stateAbbr    postcode\n",
       "0     73379 Pfeffer Lodge Apt. 730      Giovannyfurt        CA       37698\n",
       "1      2415 Adams Station Apt. 910  North Clydemouth        LA       35202\n",
       "2                  663 Feest Field     Wilmerchester        IL  77295-0882\n",
       "3    41517 Gislason Plain Apt. 394         Juddville        TX       69059\n",
       "4                 5378 Alisa Walks       Corrinestad        NV  23062-7166\n",
       "..                             ...               ...       ...         ...\n",
       "199  61148 Cheyanne Mount Apt. 801        West Chaya        TN  94553-9083\n",
       "200     757 Third Ave, Third Floor          New York        NY       10011\n",
       "201         757 3rd Avenue, 3rd Fl          New York        NY       10011\n",
       "202                757 3 Ave, Fl 3          New York        NY       10011\n",
       "203                58 Große Straße           München                      \n",
       "\n",
       "[204 rows x 4 columns]"
      ]
     },
     "execution_count": 5,
     "metadata": {},
     "output_type": "execute_result"
    }
   ],
   "source": [
    "df_source = pd.read_feather(dataset_feather)\n",
    "df_source.shape\n",
    "df_source"
   ]
  },
  {
   "attachments": {},
   "cell_type": "markdown",
   "metadata": {},
   "source": [
    "## use pandas vectorized string functions to clean text, and apply the transliteration\n",
    "Afterwards, rename the columns with a mapping dictionary"
   ]
  },
  {
   "cell_type": "code",
   "execution_count": 6,
   "metadata": {},
   "outputs": [],
   "source": [
    "column_mapping={\n",
    "    'streetAddress':'address1',\n",
    "    'city':'city',\n",
    "    'stateAbbr':'state',\n",
    "    'postcode':'postalcode',\n",
    "}\n",
    "def standardize_and_rename(df):\n",
    "    return df.apply(lambda x: x.astype(str).str.strip().str.lower())\\\n",
    "                    .applymap(lambda x: codecs.encode(x,\"translit/short\"))\\\n",
    "                    .rename(columns=column_mapping)"
   ]
  },
  {
   "attachments": {},
   "cell_type": "markdown",
   "metadata": {},
   "source": [
    "### Given that our dataset has no countries, we'll just set them to random weighted countries"
   ]
  },
  {
   "cell_type": "code",
   "execution_count": 7,
   "metadata": {},
   "outputs": [],
   "source": [
    "#---------------------------------------------------------------------------------------------------\n",
    "def add_random_countries(df):\n",
    "    \"\"\" Returns either the existing country series, or a series of random countries\"\"\"\n",
    "    if 'country' in df:\n",
    "        return df.country\n",
    "    else:\n",
    "        country_names   = (' ',  'united states','canada','england','germany')\n",
    "        country_weights = (0.80, 0.10,            0.05,    0.03,     0.02)\n",
    "        return random.choices(country_names, weights=country_weights, k=df.shape[0]) \n",
    "#---------------------------------------------------------------------------------------------------\n"
   ]
  },
  {
   "attachments": {},
   "cell_type": "markdown",
   "metadata": {},
   "source": [
    "### Normalize Countries\n",
    "- Strip spaces, periods, parentheses\n",
    "- Map to a country dictionary"
   ]
  },
  {
   "cell_type": "code",
   "execution_count": 8,
   "metadata": {},
   "outputs": [],
   "source": [
    "#---------------------------------------------------------------------------------------------------\n",
    "country_dict = {\"afghanistan\":\"af\",\"albania\":\"al\",\"algeria\":\"dz\",\"americansamoa\":\"as\",\"andorra\":\"ad\",\"angola\":\"ao\",\"anguilla\":\"AI\",\n",
    "    \"antarctica\":\"AQ\",\"antigua\":\"AG\",\"barbuda\":\"AG\",\"antiguaandbarbuda\":\"AG\",\"argentina\":\"AR\",\"armenia\":\"AM\",\"aruba\":\"AW\",\n",
    "    \"australia\":\"AU\",\"austria\":\"AT\",\"azerbaijan\":\"AZ\",\"bahamas\":\"BS\",\"bahrain\":\"BH\",\"bangladesh\":\"BD\",\"barbados\":\"BB\",\"belarus\":\"BY\",\n",
    "    \"belgium\":\"BE\",\"belize\":\"BZ\",\"benin\":\"BJ\",\"bermuda\":\"BM\",\"bhutan\":\"BT\",\"bolivia\":\"BO\",\"boliviaplurinationalstateof\":\"BO\",\n",
    "    \"bonaire\":\"BQ\",\"sinteustatius\":\"BQ\",\"saba\":\"BQ\",\"bonaire, sinteustatiusandsaba\":\"BQ\",\"bosnia\":\"BA\",\"bosniaandherzegovina\":\"BA\",\n",
    "    \"herzegovina\":\"BA\",\"botswana\":\"BW\",\"bouvetisland\":\"BV\",\"brazil\":\"BR\",\"britishindianoceanterritory\":\"IO\",\"brunei\":\"BN\",\n",
    "    \"bruneidarussalam\":\"BN\",\"bulgaria\":\"BG\",\"burkinafaso\":\"BF\",\"burundi\":\"BI\",\"cambodia\":\"KH\",\"cameroon\":\"CM\",\"canada\":\"CA\",\n",
    "    \"capeverde\":\"CV\",\"caymanislands\":\"KY\",\"centralafricanrepublic\":\"CF\",\"chad\":\"TD\",\"chile\":\"CL\",\"china\":\"CN\",\"christmasisland\":\"CX\",\n",
    "    \"cocosislands\":\"CC\",\"keelingislands\":\"CC\",\"cocoskeelingislands\":\"CC\",\"colombia\":\"CO\",\"comoros\":\"KM\",\"congo\":\"CG\",\n",
    "    \"congo, the democratic republic of the\":\"CD\",\"cook islands\":\"CK\",\"costa rica\":\"CR\",\"cotedivoire\":\"CI\",\"ivorycoast\":\"CI\",\"croatia\":\"HR\",\n",
    "    \"cuba\":\"CU\",\"curacao\":\"CW\",\"cyprus\":\"CY\",\"czechrepublic\":\"CZ\",\"denmark\":\"DK\",\"djibouti\":\"DJ\",\"dominica\":\"DM\",\n",
    "    \"dominicanrepublic\":\"DO\",\"ecuador\":\"EC\",\"egypt\":\"EG\",\"elalvador\":\"SV\",\"equatorialguinea\":\"GQ\",\"eritrea\":\"ER\",\"estonia\":\"EE\",\n",
    "    \"ethiopia\":\"ET\",\"falklandislands\":\"FK\",\"malvinas\":\"FK\",\"falklandislandsmalvinas\":\"FK\",\"faroeislands\":\"FO\",\"fiji\":\"FJ\",\n",
    "    \"finland\":\"FI\",\"france\":\"FR\",\"frenchguiana\":\"GF\",\"frenchpolynesia\":\"PF\",\"frenchsouthernterritories\":\"TF\",\"gabon\":\"GA\",\n",
    "    \"gambia\":\"GM\",\"georgia\":\"GE\",\"germany\":\"DE\",\"ghana\":\"GH\",\"gibraltar\":\"GI\",\"greece\":\"GR\",\"greenland\":\"GL\",\"grenada\":\"GD\",\n",
    "    \"guadeloupe\":\"GP\",\"guam\":\"GU\",\"guatemala\":\"GT\",\"guernsey\":\"GG\",\"guinea\":\"GN\",\"guineabissau\":\"GW\",\"guyana\":\"GY\",\n",
    "    \"haiti\":\"HT\",\"heardisland\":\"HM\",\"mcdonaldislands\":\"HM\",\"heardislandandmcdonaldislands\":\"HM\",\"holysee\":\"VA\",\n",
    "    \"vaticancitystate\":\"VA\",\"vaticancity\":\"VA\",\"holyseevaticancitystate\":\"VA\",\"honduras\":\"HN\",\"hongkong\":\"HK\",\"hungary\":\"HU\",\n",
    "    \"iceland\":\"IS\",\"india\":\"IN\",\"indonesia\":\"ID\",\"iran\":\"IR\",\"iranislamicrepublicof\":\"IR\",\"iraq\":\"IQ\",\"ireland\":\"IE\",\"isleofman\":\"IM\",\n",
    "    \"israel\":\"IL\",\"italy\":\"IT\",\"jamaica\":\"JM\",\"japan\":\"JP\",\"jersey\":\"JE\",\"jordan\":\"JO\",\"kazakhstan\":\"KZ\",\"kenya\":\"KE\",\"kiribati\":\"KI\",\n",
    "    \"nkorea\":\"KP\",\"northkorea\":\"KP\",\"koreademocraticpeoplesrepublicof\":\"KP\",\"korea\":\"KR\",\"skorea\":\"KR\",\"southkorea\":\"KR\",\n",
    "    \"korearepublicof\":\"KR\",\"kuwait\":\"KW\",\"kyrgyzstan\":\"KG\",\"lao\":\"LA\",\"laopeoplesdemocraticrepublic\":\"LA\",\"latvia\":\"LV\",\n",
    "    \"lebanon\":\"LB\",\"lesotho\":\"LS\",\"liberia\":\"LR\",\"libya\":\"LY\",\"liechtenstein\":\"LI\",\"lithuania\":\"LT\",\"luxembourg\":\"LU\",\"macau\":\"MO\",\n",
    "    \"macao\":\"MO\",\"macedonia\":\"MK\",\"macedoniarepublicof\":\"MK\",\"madagascar\":\"MG\",\"malawi\":\"MW\",\"malaysia\":\"MY\",\"maldives\":\"MV\",\n",
    "    \"mali\":\"ML\",\"malta\":\"MT\",\"marshallislands\":\"MH\",\"martinique\":\"MQ\",\"mauritania\":\"MR\",\"mauritius\":\"MU\",\"mayotte\":\"YT\",\"mexico\":\"MX\",\n",
    "    \"micronesia\":\"FM\",\"micronesiafederatedstatesof\":\"FM\",\"moldova\":\"MD\",\"moldovarepublicof\":\"MD\",\"monaco\":\"MC\",\"mongolia\":\"MN\",\n",
    "    \"montenegro\":\"ME\",\"montserrat\":\"MS\",\"morocco\":\"MA\",\"mozambique\":\"MZ\",\"myanmar\":\"MM\",\"namibia\":\"NA\",\"nauru\":\"NR\",\"nepal\":\"NP\",\n",
    "    \"nederlands\":\"NL\",\"thenetherlands\":\"NL\",\"holland\":\"NL\",\"netherlands\":\"NL\",\"newcaledonia\":\"NC\",\"newzealand\":\"NZ\",\"nicaragua\":\"NI\",\n",
    "    \"niger\":\"NE\",\"nigeria\":\"NG\",\"niue\":\"NU\",\"norfolkisland\":\"NF\",\"nmarianaislands\":\"MP\",\"northernmarianaislands\":\"MP\",\"norway\":\"NO\",\n",
    "    \"oman\":\"OM\",\"pakistan\":\"PK\",\"palau\":\"PW\",\"palestine\":\"PS\",\"palestinianterritory\":\"PS\",\"palestinianterritoryoccupied\":\"PS\",\n",
    "    \"panama\":\"PA\",\"papuanewguinea\":\"PG\",\"paraguay\":\"PY\",\"peru\":\"PE\",\"philippines\":\"PH\",\"pitcairn\":\"PN\",\"poland\":\"PL\",\"portugal\":\"PT\",\n",
    "    \"puertorico\":\"PR\",\"qatar\":\"QA\",\"reunion\":\"RE\",\"romania\":\"RO\",\"russia\":\"RU\",\"russianfederation\":\"RU\",\"rwanda\":\"RW\",\n",
    "    \"stbarthelemy\":\"BL\",\"saintbarthelemy\":\"BL\",\"sainthelena\":\"SH\",\"sthelena\":\"SH\",\"ascension\":\"SH\",\"tristandacunha\":\"SH\",\n",
    "    \"sainthelenaascensionandtristandacunha\":\"SH\",\"stkitts\":\"KN\",\"saintkitts\":\"KN\",\"nevis\":\"KN\",\"saintkittsandnevis\":\"KN\",\n",
    "    \"stlucia\":\"LC\",\"saintlucia\":\"LC\",\"saintmartin\":\"MF\",\"stmartin\":\"MF\",\"saintmartinfrenchpart\":\"MF\",\"st pierre\":\"PM\",\n",
    "    \"saintpierre\":\"PM\",\"miquelon\":\"PM\",\"saintpierreandmiquelon\":\"PM\",\"stvincentandthegrenadines\":\"VC\",\n",
    "    \"saintvincentandthegrenadines\":\"VC\",\"samoa\":\"WS\",\"sanmarino\":\"SM\",\"saotomeandprincipe\":\"ST\",\"saudiarabia\":\"SA\",\"senegal\":\"SN\",\n",
    "    \"serbia\":\"RS\",\"seychelles\":\"SC\",\"sierraleone\":\"SL\",\"singapore\":\"SG\",\"stmaarten\":\"SX\",\"sintmaarten\":\"SX\",\n",
    "    \"sintmaartendutchpart\":\"SX\",\"slovakia\":\"SK\",\"slovenia\":\"SI\",\"solomonislands\":\"SB\",\"somalia\":\"SO\",\"safrica\":\"ZA\",\n",
    "    \"southafrica\":\"ZA\",\"sgeorgia\":\"GS\",\"southgeorgia\":\"GS\",\"ssandwichislands\":\"GS\",\"southsandwichislands\":\"GS\",\n",
    "    \"southgeorgiaandthesouthsandwichislands\":\"GS\",\"spain\":\"ES\",\"srilanka\":\"LK\",\"sudan\":\"SD\",\"suriname\":\"SR\",\"ssudan\":\"SS\",\n",
    "    \"southsudan\":\"SS\",\"svalbard\":\"SJ\",\"janmayen\":\"SJ\",\"svalbardandjanmayen\":\"SJ\",\"swaziland\":\"SZ\",\"sweden\":\"SE\",\"switzerland\":\"CH\",\n",
    "    \"syria\":\"SY\",\"syrian arab republic\":\"SY\",\"taiwan\":\"TW\",\"taiwan, province of china\":\"TW\",\"tajikistan\":\"TJ\",\"tanzania\":\"TZ\",\n",
    "    \"tanzaniaunitedrepublicof\":\"TZ\",\"thailand\":\"TH\",\"timorleste\":\"TL\",\"togo\":\"TG\",\"tokelau\":\"TK\",\"tonga\":\"TO\",\"trinidad\":\"TT\",\n",
    "    \"tobago\":\"TT\",\"trinidadandtobago\":\"TT\",\"tunisia\":\"TN\",\"turkiye\":\"TR\",\"turkey\":\"TR\",\"turkmenistan\":\"TM\",\n",
    "    \"turksandcaicosislands\":\"TC\",\"tuvalu\":\"TV\",\"uganda\":\"UG\",\"ukraine\":\"UA\",\"uae\":\"AE\",\"unitedarabemirates\":\"AE\",\n",
    "    \"unitedkingdom\":\"GB\",\"uk\":\"GB\",\"gbr\":\"uk\",\"greatbritain\":\"GB\",\"england\":\"GB\",\"scotland\":\"GB\",\"wales\":\"GB\",\"northernireland\":\"GB\",\n",
    "    \"nireland\":\"GB\",\"unitedstates\":\"US\",\"usa\":\"US\",\"unitedstatesofamerica\":\"US\",\"usminoroutlyingislands\":\"UM\",\n",
    "    \"unitedstatesminoroutlyingislands\":\"UM\",\"uruguay\":\"UY\",\"uzbekistan\":\"UZ\",\"vanuatu\":\"VU\",\"venezuela\":\"VE\",\n",
    "    \"venezuelabolivarianrepublicof\":\"VE\",\"vietnam\":\"VN\",\"britishvirginislands\":\"VG\",\"bvi\":\"VG\",\n",
    "    \"virginislandsbritish\":\"VG\",\"usvirginislands\":\"VI\",\"usvi\":\"VI\",\"virginislands\":\"VI\",\"wallisandfutuna\":\"WF\",\n",
    "    \"yemen\":\"YE\",\"zambia\":\"ZM\",\"zimbabwe\":\"ZW\"}\n",
    "#---------------------------------------------------------------------------------------------------\n",
    "# Remove commas, spaces, parentheses, periods, dashes, and apostrophes\n",
    "country_translations = str.maketrans(r\"\",r\"\",r\",. ()-'\") \n",
    "default_country      = 'US'\n",
    "#---------------------------------------------------------------------------------------------------"
   ]
  },
  {
   "attachments": {},
   "cell_type": "markdown",
   "metadata": {},
   "source": [
    "### Normalize States\n",
    "- Remove periods, spaces\n",
    "- Convert from dictionary"
   ]
  },
  {
   "cell_type": "code",
   "execution_count": 9,
   "metadata": {},
   "outputs": [],
   "source": [
    "#---------------------------------------------------------------------------------------------------\n",
    "state_translations = str.maketrans(r\"\",r\"\",r\". \")\n",
    "state_expansion={\"al\":\"alabama\",\"ak\":\"alaska\",\"az\":\"arizona\",\"ar\":\"arkansas\",\"ca\":\"california\",\"co\":\"colorado\",\"ct\":\"connecticut\",\"de\":\"delaware\",\"fl\":\"florida\",\"ga\":\"georgia\",\"hi\":\"hawaii\",\"id\":\"idaho\",\"il\":\"illinois\",\"in\":\"indiana\",\"ia\":\"iowa\",\"ks\":\"kansas\",\"ky\":\"kentucky\",\"la\":\"louisiana\",\"me\":\"maine\",\"md\":\"maryland\",\"ma\":\"massachusetts\",\"mi\":\"michigan\",\"mn\":\"minnesota\",\"ms\":\"mississippi\",\"mo\":\"missouri\",\"mt\":\"montana\",\"ne\":\"nebraska\",\"nv\":\"nevada\",\"nh\":\"newhampshire\",\"nj\":\"newjersey\",\"nm\":\"newmexico\",\"ny\":\"newyork\",\"nc\":\"northcarolina\",\"nd\":\"northdakota\",\"oh\":\"ohio\",\"ok\":\"oklahoma\",\"or\":\"oregon\",\"pa\":\"pennsylvania\",\"ri\":\"rhodeisland\",\"sc\":\"southcarolina\",\"sd\":\"southdakota\",\"tn\":\"tennessee\",\"tx\":\"texas\",\"ut\":\"utah\",\"vt\":\"vermont\",\"va\":\"virginia\",\"wa\":\"washington\",\"wv\":\"westvirginia\",\"wi\":\"wisconsin\",\"wy\":\"wyoming\",\"dc\":\"districtofcolumbia\",\"as\":\"americansamoa\",\"gu\":\"guam\",\"mp\":\"northernmarianaislands\",\"pr\":\"puertorico\",\"um\":\"unitedstatesminoroutlyingislands\",\"vi\":\"usvirginislands\",\"on\":\"ontario\",\"qc\":\"quebec\",\"ns\":\"novascotia\",\"nb\":\"newbrunswick\",\"mb\":\"manitoba\",\"bc\":\"britishcolumbia\",\"pe\":\"princeedwardisland\",\"sk\":\"saskatchewan\",\"ab\":\"alberta\",\"nl\":\"newfoundlandandlabrador\"}\n",
    "state_contraction={\"alabama\":\"al\",\"alaska\":\"ak\",\"arizona\":\"az\",\"arkansas\":\"ar\",\"california\":\"ca\",\"colorado\":\"co\",\"connecticut\":\"ct\",\"delaware\":\"de\",\"florida\":\"fl\",\"georgia\":\"ga\",\"hawaii\":\"hi\",\"idaho\":\"id\",\"illinois\":\"il\",\"indiana\":\"in\",\"iowa\":\"ia\",\"kansas\":\"ks\",\"kentucky\":\"ky\",\"louisiana\":\"la\",\"maine\":\"me\",\"maryland\":\"md\",\"massachusetts\":\"ma\",\"michigan\":\"mi\",\"minnesota\":\"mn\",\"mississippi\":\"ms\",\"missouri\":\"mo\",\"montana\":\"mt\",\"nebraska\":\"ne\",\"nevada\":\"nv\",\"newhampshire\":\"nh\",\"newjersey\":\"nj\",\"newmexico\":\"nm\",\"newyork\":\"ny\",\"northcarolina\":\"nc\",\"northdakota\":\"nd\",\"ohio\":\"oh\",\"oklahoma\":\"ok\",\"oregon\":\"or\",\"pennsylvania\":\"pa\",\"rhodeisland\":\"ri\",\"southcarolina\":\"sc\",\"southdakota\":\"sd\",\"tennessee\":\"tn\",\"texas\":\"tx\",\"utah\":\"ut\",\"vermont\":\"vt\",\"virginia\":\"va\",\"washington\":\"wa\",\"westvirginia\":\"wv\",\"wisconsin\":\"wi\",\"wyoming\":\"wy\",\"districtofcolumbia\":\"dc\",\"americansamoa\":\"as\",\"guam\":\"gu\",\"northernmarianaislands\":\"mp\",\"puertorico\":\"pr\",\"unitedstatesminoroutlyingislands\":\"um\",\"usvirginislands\":\"vi\",\"ncarolina\":\"nc\",\"ndakota\":\"nd\",\"scarolina\":\"sc\",\"sdakota\":\"sd\",\"wvirginia\":\"wv\",\"ontario\":\"on\",\"quebec\":\"qc\",\"novascotia\":\"ns\",\"newbrunswick\":\"nb\",\"manitoba\":\"mb\",\"britishcolumbia\":\"bc\",\"princeedwardisland\":\"pe\",\"saskatchewan\":\"sk\",\"alberta\":\"ab\",\"newfoundlandandlabrador\":\"nl\",\"qb\":\"qc\",\"pq\":\"qc\",\"newfoundland\":\"nl\",\"labrador\":\"nl\",\"ont\":\"on\"}\n",
    "state_stopwords=[\"the\",\"and\",\"of\"]\n",
    "#---------------------------------------------------------------------------------------------------"
   ]
  },
  {
   "attachments": {},
   "cell_type": "markdown",
   "metadata": {},
   "source": [
    "### Normalize postcodes\n",
    "* strip spaces, dashes"
   ]
  },
  {
   "cell_type": "code",
   "execution_count": 10,
   "metadata": {},
   "outputs": [],
   "source": [
    "#---------------------------------------------------------------------------------------------------\n",
    "postcode_translations = str.maketrans(r\"\",r\"\",r\"- \")\n",
    "#---------------------------------------------------------------------------------------------------"
   ]
  },
  {
   "attachments": {},
   "cell_type": "markdown",
   "metadata": {},
   "source": [
    "### Normalize address lines\n",
    "- Strip characters\n",
    "- parse to convert number words to numbers\n",
    "- regex to remove ordinals\n",
    "- tokenize to words\n",
    "- abbreviate\n",
    "- remove stop words"
   ]
  },
  {
   "cell_type": "code",
   "execution_count": 11,
   "metadata": {},
   "outputs": [],
   "source": [
    "#---------------------------------------------------------------------------------------------------\n",
    "address_translations = str.maketrans(r\"().,-:\", r\"      \", r\"\")\n",
    "address_expansion={\"allee\":\"alley\",\"ally\":\"alley\",\"aly\":\"alley\",\"annex\":\"anex\",\"annx\":\"anex\",\"anx\":\"anex\",\"arc\":\"arcade\",\"av\":\"avenue\",\"ave\":\"avenue\",\"aven\":\"avenue\",\"avenu\":\"avenue\",\"avn\":\"avenue\",\"avnue\":\"avenue\",\"bayoo\":\"bayou\",\"bch\":\"beach\",\"bnd\":\"bend\",\"blf\":\"bluff\",\"bluf\":\"bluff\",\"bot\":\"bottom\",\"btm\":\"bottom\",\"bottm\":\"bottom\",\"blvd\":\"boulevard\",\"boul\":\"boulevard\",\"boulv\":\"boulevard\",\"br\":\"branch\",\"brnch\":\"branch\",\"brdge\":\"bridge\",\"brg\":\"bridge\",\"brk\":\"brook\",\"byp\":\"bypass\",\"bypa\":\"bypass\",\"bypas\":\"bypass\",\"byps\":\"bypass\",\"cp\":\"camp\",\"cmp\":\"camp\",\"canyn\":\"canyon\",\"cnyn\":\"canyon\",\"cpe\":\"cape\",\"causwa\":\"causeway\",\"cswy\":\"causeway\",\"cen\":\"center\",\"cent\":\"center\",\"centr\":\"center\",\"centre\":\"center\",\"cnter\":\"center\",\"cntr\":\"center\",\"ctr\":\"center\",\"cir\":\"circle\",\"circ\":\"circle\",\"circl\":\"circle\",\"crcl\":\"circle\",\"crcle\":\"circle\",\"clf\":\"cliff\",\"clfs\":\"cliffs\",\"clb\":\"club\",\"cor\":\"corner\",\"cors\":\"corners\",\"crse\":\"course\",\"ct\":\"court\",\"cts\":\"courts\",\"cv\":\"cove\",\"crk\":\"creek\",\"cres\":\"crescent\",\"crsent\":\"crescent\",\"crsnt\":\"crescent\",\"crssng\":\"crossing\",\"xing\":\"crossing\",\"dl\":\"dale\",\"dm\":\"dam\",\"div\":\"divide\",\"dv\":\"divide\",\"dvd\":\"divide\",\"dr\":\"drive\",\"driv\":\"drive\",\"drv\":\"drive\",\"est\":\"estate\",\"ests\":\"estates\",\"exp\":\"expressway\",\"expr\":\"expressway\",\"express\":\"expressway\",\"expw\":\"expressway\",\"expy\":\"expressway\",\"ext\":\"extension\",\"extn\":\"extension\",\"extnsn\":\"extension\",\"exts\":\"extensions\",\"fls\":\"falls\",\"frry\":\"ferry\",\"fry\":\"ferry\",\"fld\":\"field\",\"flds\":\"fields\",\"flt\":\"flat\",\"flts\":\"flats\",\"frd\":\"ford\",\"forests\":\"forest\",\"frst\":\"forest\",\"forg\":\"forge\",\"frg\":\"forge\",\"frk\":\"fork\",\"frks\":\"forks\",\"frt\":\"fort\",\"ft\":\"fort\",\"freewy\":\"freeway\",\"frway\":\"freeway\",\"frwy\":\"freeway\",\"fwy\":\"freeway\",\"gardn\":\"garden\",\"grden\":\"garden\",\"grdn\":\"garden\",\"gdns\":\"gardens\",\"grdns\":\"gardens\",\"gatewy\":\"gateway\",\"gatway\":\"gateway\",\"gtway\":\"gateway\",\"gtwy\":\"gateway\",\"gln\":\"glen\",\"grn\":\"green\",\"grov\":\"grove\",\"grv\":\"grove\",\"harb\":\"harbor\",\"harbr\":\"harbor\",\"hbr\":\"harbor\",\"hrbor\":\"harbor\",\"hvn\":\"haven\",\"ht\":\"heights\",\"hts\":\"heights\",\"highwy\":\"highway\",\"hiway\":\"highway\",\"hiwy\":\"highway\",\"hway\":\"highway\",\"hwy\":\"highway\",\"hl\":\"hill\",\"hls\":\"hills\",\"hllw\":\"hollow\",\"hollows\":\"hollow\",\"holw\":\"hollow\",\"holws\":\"hollow\",\"inlt\":\"inlet\",\"is\":\"island\",\"islnd\":\"island\",\"islnds\":\"islands\",\"iss\":\"islands\",\"isles\":\"isle\",\"jct\":\"junction\",\"jction\":\"junction\",\"jctn\":\"junction\",\"junctn\":\"junction\",\"juncton\":\"junction\",\"jctns\":\"junctions\",\"jcts\":\"junctions\",\"ky\":\"key\",\"kys\":\"keys\",\"knl\":\"knoll\",\"knol\":\"knoll\",\"knls\":\"knolls\",\"lk\":\"lake\",\"lks\":\"lakes\",\"lndg\":\"landing\",\"lndng\":\"landing\",\"ln\":\"lane\",\"lgt\":\"light\",\"lf\":\"loaf\",\"lck\":\"lock\",\"lcks\":\"locks\",\"ldg\":\"lodge\",\"ldge\":\"lodge\",\"lodg\":\"lodge\",\"loops\":\"loop\",\"mnr\":\"manor\",\"mnrs\":\"manors\",\"mdw\":\"meadows\",\"mdws\":\"meadows\",\"medows\":\"meadows\",\"missn\":\"mission\",\"mssn\":\"mission\",\"mnt\":\"mount\",\"mt\":\"mount\",\"mntain\":\"mountain\",\"mntn\":\"mountain\",\"mountin\":\"mountain\",\"mtin\":\"mountain\",\"mtn\":\"mountain\",\"mntns\":\"mountains\",\"nck\":\"neck\",\"orch\":\"orchard\",\"orchrd\":\"orchard\",\"ovl\":\"oval\",\"prk\":\"park\",\"parkwy\":\"parkway\",\"pkway\":\"parkway\",\"pkwy\":\"parkway\",\"pky\":\"parkway\",\"pkwys\":\"parkways\",\"paths\":\"path\",\"pikes\":\"pike\",\"pnes\":\"pines\",\"pl\":\"place\",\"pln\":\"plain\",\"plns\":\"plains\",\"plz\":\"plaza\",\"plza\":\"plaza\",\"pt\":\"point\",\"pts\":\"points\",\"prt\":\"port\",\"prts\":\"ports\",\"pr\":\"prairie\",\"prr\":\"prairie\",\"rad\":\"radial\",\"radiel\":\"radial\",\"radl\":\"radial\",\"ranches\":\"ranch\",\"rnch\":\"ranch\",\"rnchs\":\"ranch\",\"rpd\":\"rapid\",\"rpds\":\"rapids\",\"rst\":\"rest\",\"rdg\":\"ridge\",\"rdge\":\"ridge\",\"rdgs\":\"ridges\",\"riv\":\"river\",\"rvr\":\"river\",\"rivr\":\"river\",\"rd\":\"road\",\"rds\":\"roads\",\"shl\":\"shoal\",\"shls\":\"shoals\",\"shoar\":\"shore\",\"shr\":\"shore\",\"shoars\":\"shores\",\"shrs\":\"shores\",\"spg\":\"spring\",\"spng\":\"spring\",\"sprng\":\"spring\",\"spgs\":\"springs\",\"spngs\":\"springs\",\"sprngs\":\"springs\",\"sq\":\"square\",\"sqr\":\"square\",\"sqre\":\"square\",\"squ\":\"square\",\"sqrs\":\"squares\",\"sta\":\"station\",\"statn\":\"station\",\"stn\":\"station\",\"stra\":\"stravenue\",\"strav\":\"stravenue\",\"straven\":\"stravenue\",\"stravn\":\"stravenue\",\"strvn\":\"stravenue\",\"strvnue\":\"stravenue\",\"streme\":\"stream\",\"strm\":\"stream\",\"strt\":\"street\",\"st\":\"street\",\"str\":\"street\",\"smt\":\"summit\",\"sumit\":\"summit\",\"sumitt\":\"summit\",\"ter\":\"terrace\",\"terr\":\"terrace\",\"traces\":\"trace\",\"trce\":\"trace\",\"tracks\":\"track\",\"trak\":\"track\",\"trk\":\"track\",\"trks\":\"track\",\"trails\":\"trail\",\"trl\":\"trail\",\"trls\":\"trail\",\"trlr\":\"trailer\",\"trlrs\":\"trailer\",\"tunel\":\"tunnel\",\"tunl\":\"tunnel\",\"tunls\":\"tunnel\",\"tunnels\":\"tunnel\",\"tunnl\":\"tunnel\",\"trnpk\":\"turnpike\",\"turnpk\":\"turnpike\",\"un\":\"union\",\"vally\":\"valley\",\"vlly\":\"valley\",\"vly\":\"valley\",\"vlys\":\"valleys\",\"vdct\":\"viaduct\",\"via\":\"viaduct\",\"viadct\":\"viaduct\",\"vw\":\"view\",\"vws\":\"views\",\"vill\":\"village\",\"villag\":\"village\",\"villg\":\"village\",\"villiage\":\"village\",\"vlg\":\"village\",\"vlgs\":\"villages\",\"vl\":\"ville\",\"vis\":\"vista\",\"vist\":\"vista\",\"vst\":\"vista\",\"vsta\":\"vista\",\"wy\":\"way\",\"wls\":\"wells\",\"apt\":\"apartment\",\"bsmt\":\"basement\",\"bldg\":\"building\",\"dept\":\"department\",\"fl\":\"floor\",\"frnt\":\"front\",\"hngr\":\"hanger\",\"lbby\":\"lobby\",\"lowr\":\"lower\",\"ofc\":\"office\",\"ph\":\"penthouse\",\"rm\":\"room\",\"spc\":\"space\",\"ste\":\"suite\",\"trlr\":\"trailer\",\"uppr\":\"upper\",\"n\":\"north\",\"s\":\"south\",\"e\":\"east\",\"w\":\"west\",\"ne\":\"northeast\",\"nw\":\"northwest\",\"se\":\"southeast\",\"sw\":\"southwest\",\"1\":\"first\",\"2\":\"second\",\"3\":\"third\",\"4\":\"fourth\",\"5\":\"fifth\",\"6\":\"sixth\",\"7\":\"seventh\",\"8\":\"eighth\",\"9\":\"ninth\",\"10\":\"tenth\",\"11\":\"eleventh\",\"12\":\"twelfth\",\"13\":\"thirteenth\"}\n",
    "address_contraction={\"allee\":\"aly\",\"alley\":\"aly\",\"ally\":\"aly\",\"anex\":\"anx\",\"annex\":\"anx\",\"annx\":\"anx\",\"arcade\":\"arc\",\"av\":\"ave\",\"aven\":\"ave\",\"avenu\":\"ave\",\"avenue\":\"ave\",\"avn\":\"ave\",\"avnue\":\"ave\",\"bayoo\":\"byu\",\"bayou\":\"byu\",\"beach\":\"bch\",\"bend\":\"bnd\",\"bluf\":\"blf\",\"bluff\":\"blf\",\"bluffs\":\"blfs\",\"bot\":\"btm\",\"bottm\":\"btm\",\"bottom\":\"btm\",\"boul\":\"blvd\",\"boulevard\":\"blvd\",\"boulv\":\"blvd\",\"brnch\":\"br\",\"branch\":\"br\",\"brdge\":\"brg\",\"bridge\":\"brg\",\"brook\":\"brk\",\"brooks\":\"brks\",\"burg\":\"bg\",\"burgs\":\"bgs\",\"bypa\":\"byp\",\"bypas\":\"byp\",\"bypass\":\"byp\",\"byps\":\"byp\",\"camp\":\"cp\",\"cmp\":\"cp\",\"canyn\":\"cyn\",\"canyon\":\"cyn\",\"cnyn\":\"cyn\",\"cape\":\"cpe\",\"causeway\":\"cswy\",\"causwa\":\"cswy\",\"cen\":\"ctr\",\"cent\":\"ctr\",\"center\":\"ctr\",\"centr\":\"ctr\",\"centre\":\"ctr\",\"cnter\":\"ctr\",\"cntr\":\"ctr\",\"centers\":\"ctrs\",\"circ\":\"cir\",\"circl\":\"cir\",\"circle\":\"cir\",\"crcl\":\"cir\",\"crcle\":\"cir\",\"circles\":\"cirs\",\"cliff\":\"clf\",\"cliffs\":\"clfs\",\"club\":\"clb\",\"common\":\"cmn\",\"commons\":\"cmns\",\"corner\":\"cor\",\"corners\":\"cors\",\"course\":\"crse\",\"court\":\"ct\",\"courts\":\"cts\",\"cove\":\"cv\",\"coves\":\"cvs\",\"creek\":\"crk\",\"crescent\":\"cres\",\"crsent\":\"cres\",\"crsnt\":\"cres\",\"crest\":\"crst\",\"crossing\":\"xing\",\"crssng\":\"xing\",\"crossroad\":\"xrd\",\"crossroads\":\"xrds\",\"curve\":\"curv\",\"dale\":\"dl\",\"dam\":\"dm\",\"div\":\"dv\",\"divide\":\"dv\",\"dvd\":\"dv\",\"driv\":\"dr\",\"drive\":\"dr\",\"drv\":\"dr\",\"drives\":\"drs\",\"estate\":\"est\",\"estates\":\"ests\",\"exp\":\"expy\",\"expr\":\"expy\",\"express\":\"expy\",\"expressway\":\"expy\",\"expw\":\"expy\",\"extension\":\"ext\",\"extn\":\"ext\",\"extnsn\":\"ext\",\"falls\":\"fls\",\"ferry\":\"fry\",\"frry\":\"fry\",\"field\":\"fld\",\"fields\":\"flds\",\"flat\":\"flt\",\"flats\":\"flts\",\"ford\":\"frd\",\"fords\":\"frds\",\"forest\":\"frst\",\"forests\":\"frst\",\"forg\":\"frg\",\"forge\":\"frg\",\"forges\":\"frgs\",\"fork\":\"frk\",\"forks\":\"frks\",\"fort\":\"ft\",\"frt\":\"ft\",\"freeway\":\"fwy\",\"freewy\":\"fwy\",\"frway\":\"fwy\",\"frwy\":\"fwy\",\"garden\":\"gdn\",\"gardn\":\"gdn\",\"grden\":\"gdn\",\"grdn\":\"gdn\",\"gardens\":\"gdns\",\"grdns\":\"gdns\",\"gateway\":\"gtwy\",\"gatewy\":\"gtwy\",\"gatway\":\"gtwy\",\"gtway\":\"gtwy\",\"glen\":\"gln\",\"glens\":\"glns\",\"green\":\"grn\",\"greens\":\"grns\",\"grov\":\"grv\",\"grove\":\"grv\",\"groves\":\"grvs\",\"harb\":\"hbr\",\"harbor\":\"hbr\",\"harbr\":\"hbr\",\"hrbor\":\"hbr\",\"harbors\":\"hbrs\",\"haven\":\"hvn\",\"ht\":\"hts\",\"highway\":\"hwy\",\"highwy\":\"hwy\",\"hiway\":\"hwy\",\"hiwy\":\"hwy\",\"hway\":\"hwy\",\"hill\":\"hl\",\"hills\":\"hls\",\"hllw\":\"holw\",\"hollow\":\"holw\",\"hollows\":\"holw\",\"holws\":\"holw\",\"island\":\"is\",\"islnd\":\"is\",\"islands\":\"iss\",\"islnds\":\"iss\",\"isles\":\"isle\",\"jction\":\"jct\",\"jctn\":\"jct\",\"junction\":\"jct\",\"junctn\":\"jct\",\"juncton\":\"jct\",\"jctns\":\"jcts\",\"junctions\":\"jcts\",\"key\":\"ky\",\"keys\":\"kys\",\"knol\":\"knl\",\"knoll\":\"knl\",\"knolls\":\"knls\",\"lake\":\"lk\",\"lakes\":\"lks\",\"landing\":\"lndg\",\"lndng\":\"lndg\",\"lane\":\"ln\",\"light\":\"lgt\",\"lights\":\"lgts\",\"loaf\":\"lf\",\"lock\":\"lck\",\"locks\":\"lcks\",\"ldge\":\"ldg\",\"lodg\":\"ldg\",\"lodge\":\"ldg\",\"loops\":\"loop\",\"manor\":\"mnr\",\"manors\":\"mnrs\",\"meadow\":\"mdw\",\"mdw\":\"mdws\",\"meadows\":\"mdws\",\"medows\":\"mdws\",\"mill\":\"ml\",\"mills\":\"mls\",\"missn\":\"msn\",\"mssn\":\"msn\",\"motorway\":\"mtwy\",\"mnt\":\"mt\",\"mount\":\"mt\",\"mntain\":\"mtn\",\"mntn\":\"mtn\",\"mountain\":\"mtn\",\"mountin\":\"mtn\",\"mtin\":\"mtn\",\"mntns\":\"mtns\",\"mountains\":\"mtns\",\"neck\":\"nck\",\"orchard\":\"orch\",\"orchrd\":\"orch\",\"ovl\":\"oval\",\"overpass\":\"opas\",\"prk\":\"park\",\"parks\":\"park\",\"parkway\":\"pkwy\",\"parkwy\":\"pkwy\",\"pkway\":\"pkwy\",\"pky\":\"pkwy\",\"parkways\":\"pkwy\",\"pkwys\":\"pkwy\",\"passage\":\"psge\",\"paths\":\"path\",\"pikes\":\"pike\",\"pine\":\"pne\",\"pines\":\"pnes\",\"plain\":\"pln\",\"plains\":\"plns\",\"plaza\":\"plz\",\"plza\":\"plz\",\"point\":\"pt\",\"points\":\"pts\",\"port\":\"prt\",\"ports\":\"prts\",\"prairie\":\"pr\",\"prr\":\"pr\",\"rad\":\"radl\",\"radial\":\"radl\",\"radiel\":\"radl\",\"ranch\":\"rnch\",\"ranches\":\"rnch\",\"rnchs\":\"rnch\",\"rapid\":\"rpd\",\"rapids\":\"rpds\",\"rest\":\"rst\",\"rdge\":\"rdg\",\"ridge\":\"rdg\",\"ridges\":\"rdgs\",\"river\":\"riv\",\"rvr\":\"riv\",\"rivr\":\"riv\",\"road\":\"rd\",\"roads\":\"rds\",\"route\":\"rte\",\"shoal\":\"shl\",\"shoals\":\"shls\",\"shoar\":\"shr\",\"shore\":\"shr\",\"shoars\":\"shrs\",\"shores\":\"shrs\",\"skyway\":\"skwy\",\"spng\":\"spg\",\"spring\":\"spg\",\"sprng\":\"spg\",\"spngs\":\"spgs\",\"springs\":\"spgs\",\"sprngs\":\"spgs\",\"spurs\":\"spur\",\"sqr\":\"sq\",\"sqre\":\"sq\",\"squ\":\"sq\",\"square\":\"sq\",\"sqrs\":\"sqs\",\"squares\":\"sqs\",\"station\":\"sta\",\"statn\":\"sta\",\"stn\":\"sta\",\"strav\":\"stra\",\"straven\":\"stra\",\"stravenue\":\"stra\",\"stravn\":\"stra\",\"strvn\":\"stra\",\"strvnue\":\"stra\",\"stream\":\"strm\",\"streme\":\"strm\",\"street\":\"st\",\"strt\":\"st\",\"str\":\"st\",\"streets\":\"sts\",\"sumit\":\"smt\",\"sumitt\":\"smt\",\"summit\":\"smt\",\"terr\":\"ter\",\"terrace\":\"ter\",\"throughway\":\"trwy\",\"trace\":\"trce\",\"traces\":\"trce\",\"track\":\"trak\",\"tracks\":\"trak\",\"trk\":\"trak\",\"trks\":\"trak\",\"trafficway\":\"trfy\",\"trail\":\"trl\",\"trails\":\"trl\",\"trls\":\"trl\",\"trailer\":\"trlr\",\"trlrs\":\"trlr\",\"tunel\":\"tunl\",\"tunls\":\"tunl\",\"tunnel\":\"tunl\",\"tunnels\":\"tunl\",\"tunnl\":\"tunl\",\"trnpk\":\"tpke\",\"turnpike\":\"tpke\",\"turnpk\":\"tpke\",\"underpass\":\"upas\",\"union\":\"un\",\"unions\":\"uns\",\"valley\":\"vly\",\"vally\":\"vly\",\"vlly\":\"vly\",\"valleys\":\"vlys\",\"vdct\":\"via\",\"viadct\":\"via\",\"viaduct\":\"via\",\"view\":\"vw\",\"views\":\"vws\",\"vill\":\"vlg\",\"villag\":\"vlg\",\"village\":\"vlg\",\"villg\":\"vlg\",\"villiage\":\"vlg\",\"villages\":\"vlgs\",\"ville\":\"vl\",\"vist\":\"vis\",\"vista\":\"vis\",\"vst\":\"vis\",\"vsta\":\"vis\",\"walks\":\"walk\",\"wy\":\"way\",\"well\":\"wl\",\"wells\":\"wls\",\"apartment\":\"apt\",\"basement\":\"bsmt\",\"building\":\"bldg\",\"department\":\"dept\",\"floor\":\"fl\",\"front\":\"frnt\",\"hanger\":\"hngr\",\"lobby\":\"lbby\",\"lower\":\"lowr\",\"office\":\"ofc\",\"penthouse\":\"ph\",\"room\":\"rm\",\"space\":\"spc\",\"suite\":\"ste\",\"trailer\":\"trlr\",\"upper\":\"uppr\",\"north\":\"n\",\"south\":\"s\",\"east\":\"e\",\"west\":\"w\",\"northeast\":\"ne\",\"northwest\":\"nw\",\"southeast\":\"se\",\"southwest\":\"sw\",\"first\":\"1\",\"second\":\"2\",\"third\":\"3\",\"fourth\":\"4\",\"fifth\":\"5\",\"sixth\":\"6\",\"seventh\":\"7\",\"eighth\":\"8\",\"ninth\":\"9\",\"tenth\":\"10\",\"eleventh\":\"11\",\"twelfth\":\"12\",\"thirteenth\":\"13\"}\n",
    "address_stopwords=[\"the\",\"and\",\"of\",\"c/o\",\"attention\",\"attn\"]\n",
    "#---------------------------------------------------------------------------------------------------\n",
    "def Normalize_Address_Line( address ):\n",
    "    \"\"\" Normalization for address lines: removes punctuation, converts words to numbers, tokenizes, abbreviates, and removes stopwords \"\"\"\n",
    "    tokens = re.sub(r\"(?<=[0-9])(?:st|nd|rd|th)\",\"\",address.translate( address_translations ),0, re.MULTILINE ).split()\n",
    "    tokens = [address_contraction.get(token, token) for token in tokens] ## abbreviate\n",
    "    tokens = [address_expansion.get(token, token) for token in tokens] ## expand\n",
    "    tokens = [token for token in tokens if token not in address_stopwords] ## remove stopwords!\n",
    "    return ' '.join(tokens)\n",
    "#---------------------------------------------------------------------------------------------------"
   ]
  },
  {
   "attachments": {},
   "cell_type": "markdown",
   "metadata": {},
   "source": [
    "### Normalize Cities\n",
    "- strip charactors\n",
    "- tokenize to words\n",
    "- abbreviate\n",
    "- remove stop words"
   ]
  },
  {
   "cell_type": "code",
   "execution_count": 12,
   "metadata": {},
   "outputs": [],
   "source": [
    "\n",
    "#---------------------------------------------------------------------------------------------------\n",
    "city_translations = str.maketrans(r\".,\", r\"  \", r\"-\")\n",
    "city_expansion={\"n\":\"north\",\"e\":\"east\",\"s\":\"south\",\"w\":\"west\",\"mt\":\"mount\",\"lk\":\"lake\",\"st\":\"saint\",\"ft\":\"fort\",\"spgs\":\"springs\",\"fls\":\"falls\",\"bch\":\"beach\"}\n",
    "city_contraction={\"north\":\"n\",\"east\":\"e\",\"south\":\"s\",\"west\":\"w\",\"mount\":\"mt\",\"lake\":\"lk\",\"saint\":\"st\",\"fort\":\"ft\",\"springs\":\"spgs\",\"falls\":\"fls\",\"beach\":\"bch\"}\n",
    "city_stopwords=[\"the\",\"and\",\"of\"]\n",
    "#---------------------------------------------------------------------------------------------------\n",
    "def Normalize_City_Line( city ):\n",
    "    \"\"\" Normalization for address lines: removes punctuation, converts words to numbers, tokenizes, abbreviates, and removes stopwords \"\"\"\n",
    "    tokens = city.translate(city_translations).split()\n",
    "    tokens = [city_contraction.get(token, token) for token in tokens] ## abbreviate\n",
    "    tokens = [city_expansion.get(token, token) for token in tokens] ## expand\n",
    "    tokens = [token for token in tokens if token not in city_stopwords] ## remove stopwords\n",
    "    return ' '.join(tokens)\n",
    "#---------------------------------------------------------------------------------------------------"
   ]
  },
  {
   "attachments": {},
   "cell_type": "markdown",
   "metadata": {},
   "source": [
    "### Normalize Personal names and Corporations\n",
    "- strip characters\n",
    "- tokenize to words\n",
    "- remove stop words"
   ]
  },
  {
   "cell_type": "code",
   "execution_count": 13,
   "metadata": {},
   "outputs": [],
   "source": [
    "### Normalize Personal names and Corporations\n",
    "#---------------------------------------------------------------------------------------------------\n",
    "name_translations = str.maketrans(r\".,\", r\"  \", r\"-\")\n",
    "name_stopwords=[\"the\",\"and\",\"of\",\"c/o\",\"attention\",\"attn\",\"dr\",\"prof\"]\n",
    "name_expansion={\"dr\":\"doctor\",\"prof\":\"professor\"}\n",
    "name_contraction={\"doctor\":\"dr\",\"professor\":\"prof\"}\n",
    "#---------------------------------------------------------------------------------------------------\n",
    "def Normalize_Names( name ):\n",
    "    \"\"\" Normalization for names: removes punctuation, converts words to numbers, tokenizes, abbreviates, and removes stopwords \"\"\"\n",
    "    tokens = name.translate(name_translations).split()\n",
    "    tokens = [name_contraction.get(token, token) for token in tokens] ## abbreviate\n",
    "    tokens = [name_expansion.get(token, token) for token in tokens] ## expand\n",
    "    tokens = [token for token in tokens if token not in name_stopwords] ## remove stopwords\n",
    "    return ' '.join(tokens)   \n",
    "#---------------------------------------------------------------------------------------------------\n"
   ]
  },
  {
   "attachments": {},
   "cell_type": "markdown",
   "metadata": {},
   "source": [
    "### Now make our normalized dataset"
   ]
  },
  {
   "cell_type": "code",
   "execution_count": 14,
   "metadata": {},
   "outputs": [],
   "source": [
    "#%%timeit\n",
    "\n",
    "df_source = pd.read_feather(dataset_feather)\n",
    "df2 = standardize_and_rename(df_source)\n",
    "df2['country'] = add_random_countries(df2)\n",
    "# 4.47 ms ± 120 µs per loop (mean ± std. dev. of 7 runs, 100 loops each) (204)\n",
    "# 4.44 ms ± 146 µs per loop (mean ± std. dev. of 7 runs, 100 loops each)\n"
   ]
  },
  {
   "cell_type": "code",
   "execution_count": 15,
   "metadata": {},
   "outputs": [],
   "source": [
    "#%%timeit\n",
    "\n",
    "df2.address1   = df2.address1.apply(Normalize_Address_Line)\n",
    "df2.city       = df2.city.apply(Normalize_City_Line)\n",
    "df2.state      = df2.state.apply(lambda x: state_contraction.get(x.translate(state_translations),x))\\\n",
    "                          .apply(lambda x: state_expansion.get(x.translate(state_translations),x))\n",
    "df2.postalcode = df2.postalcode.apply(lambda x: x.translate(postcode_translations))\n",
    "df2.country    = df2.country.apply(lambda x: country_dict.get(x.translate(country_translations),x))\\\n",
    "                            .apply(lambda x: (default_country if x.strip()=='' else x).upper())\n",
    "## 3.31 ms ± 114 µs per loop (mean ± std. dev. of 7 runs, 100 loops each) (204)\n",
    "# 98 ms ± 45.3 µs per loop (mean ± std. dev. of 7 runs, 100 loops each)\n",
    "# 2.07 ms ± 103 µs per loop (mean ± std. dev. of 7 runs, 100 loops each)\n",
    "# 2.01 ms ± 41.5 µs per loop (mean ± std. dev. of 7 runs, 100 loops each)\n",
    "# 2.13 ms ± 164 µs per loop (mean ± std. dev. of 7 runs, 100 loops each)"
   ]
  },
  {
   "cell_type": "code",
   "execution_count": 16,
   "metadata": {},
   "outputs": [
    {
     "data": {
      "text/html": [
       "<div>\n",
       "<style scoped>\n",
       "    .dataframe tbody tr th:only-of-type {\n",
       "        vertical-align: middle;\n",
       "    }\n",
       "\n",
       "    .dataframe tbody tr th {\n",
       "        vertical-align: top;\n",
       "    }\n",
       "\n",
       "    .dataframe thead th {\n",
       "        text-align: right;\n",
       "    }\n",
       "</style>\n",
       "<table border=\"1\" class=\"dataframe\">\n",
       "  <thead>\n",
       "    <tr style=\"text-align: right;\">\n",
       "      <th></th>\n",
       "      <th>streetAddress</th>\n",
       "      <th>city</th>\n",
       "      <th>stateAbbr</th>\n",
       "      <th>postcode</th>\n",
       "    </tr>\n",
       "  </thead>\n",
       "  <tbody>\n",
       "    <tr>\n",
       "      <th>0</th>\n",
       "      <td>73379 Pfeffer Lodge Apt. 730</td>\n",
       "      <td>Giovannyfurt</td>\n",
       "      <td>CA</td>\n",
       "      <td>37698</td>\n",
       "    </tr>\n",
       "    <tr>\n",
       "      <th>1</th>\n",
       "      <td>2415 Adams Station Apt. 910</td>\n",
       "      <td>North Clydemouth</td>\n",
       "      <td>LA</td>\n",
       "      <td>35202</td>\n",
       "    </tr>\n",
       "    <tr>\n",
       "      <th>2</th>\n",
       "      <td>663 Feest Field</td>\n",
       "      <td>Wilmerchester</td>\n",
       "      <td>IL</td>\n",
       "      <td>77295-0882</td>\n",
       "    </tr>\n",
       "    <tr>\n",
       "      <th>3</th>\n",
       "      <td>41517 Gislason Plain Apt. 394</td>\n",
       "      <td>Juddville</td>\n",
       "      <td>TX</td>\n",
       "      <td>69059</td>\n",
       "    </tr>\n",
       "    <tr>\n",
       "      <th>4</th>\n",
       "      <td>5378 Alisa Walks</td>\n",
       "      <td>Corrinestad</td>\n",
       "      <td>NV</td>\n",
       "      <td>23062-7166</td>\n",
       "    </tr>\n",
       "    <tr>\n",
       "      <th>...</th>\n",
       "      <td>...</td>\n",
       "      <td>...</td>\n",
       "      <td>...</td>\n",
       "      <td>...</td>\n",
       "    </tr>\n",
       "    <tr>\n",
       "      <th>199</th>\n",
       "      <td>61148 Cheyanne Mount Apt. 801</td>\n",
       "      <td>West Chaya</td>\n",
       "      <td>TN</td>\n",
       "      <td>94553-9083</td>\n",
       "    </tr>\n",
       "    <tr>\n",
       "      <th>200</th>\n",
       "      <td>757 Third Ave, Third Floor</td>\n",
       "      <td>New York</td>\n",
       "      <td>NY</td>\n",
       "      <td>10011</td>\n",
       "    </tr>\n",
       "    <tr>\n",
       "      <th>201</th>\n",
       "      <td>757 3rd Avenue, 3rd Fl</td>\n",
       "      <td>New York</td>\n",
       "      <td>NY</td>\n",
       "      <td>10011</td>\n",
       "    </tr>\n",
       "    <tr>\n",
       "      <th>202</th>\n",
       "      <td>757 3 Ave, Fl 3</td>\n",
       "      <td>New York</td>\n",
       "      <td>NY</td>\n",
       "      <td>10011</td>\n",
       "    </tr>\n",
       "    <tr>\n",
       "      <th>203</th>\n",
       "      <td>58 Große Straße</td>\n",
       "      <td>München</td>\n",
       "      <td></td>\n",
       "      <td></td>\n",
       "    </tr>\n",
       "  </tbody>\n",
       "</table>\n",
       "<p>204 rows × 4 columns</p>\n",
       "</div>"
      ],
      "text/plain": [
       "                     streetAddress              city stateAbbr    postcode\n",
       "0     73379 Pfeffer Lodge Apt. 730      Giovannyfurt        CA       37698\n",
       "1      2415 Adams Station Apt. 910  North Clydemouth        LA       35202\n",
       "2                  663 Feest Field     Wilmerchester        IL  77295-0882\n",
       "3    41517 Gislason Plain Apt. 394         Juddville        TX       69059\n",
       "4                 5378 Alisa Walks       Corrinestad        NV  23062-7166\n",
       "..                             ...               ...       ...         ...\n",
       "199  61148 Cheyanne Mount Apt. 801        West Chaya        TN  94553-9083\n",
       "200     757 Third Ave, Third Floor          New York        NY       10011\n",
       "201         757 3rd Avenue, 3rd Fl          New York        NY       10011\n",
       "202                757 3 Ave, Fl 3          New York        NY       10011\n",
       "203                58 Große Straße           München                      \n",
       "\n",
       "[204 rows x 4 columns]"
      ]
     },
     "execution_count": 16,
     "metadata": {},
     "output_type": "execute_result"
    }
   ],
   "source": [
    "df_source"
   ]
  },
  {
   "cell_type": "code",
   "execution_count": 17,
   "metadata": {},
   "outputs": [
    {
     "data": {
      "text/html": [
       "<div>\n",
       "<style scoped>\n",
       "    .dataframe tbody tr th:only-of-type {\n",
       "        vertical-align: middle;\n",
       "    }\n",
       "\n",
       "    .dataframe tbody tr th {\n",
       "        vertical-align: top;\n",
       "    }\n",
       "\n",
       "    .dataframe thead th {\n",
       "        text-align: right;\n",
       "    }\n",
       "</style>\n",
       "<table border=\"1\" class=\"dataframe\">\n",
       "  <thead>\n",
       "    <tr style=\"text-align: right;\">\n",
       "      <th></th>\n",
       "      <th>address1</th>\n",
       "      <th>city</th>\n",
       "      <th>state</th>\n",
       "      <th>postalcode</th>\n",
       "      <th>country</th>\n",
       "    </tr>\n",
       "  </thead>\n",
       "  <tbody>\n",
       "    <tr>\n",
       "      <th>0</th>\n",
       "      <td>73379 pfeffer lodge apartment 730</td>\n",
       "      <td>giovannyfurt</td>\n",
       "      <td>california</td>\n",
       "      <td>37698</td>\n",
       "      <td>US</td>\n",
       "    </tr>\n",
       "    <tr>\n",
       "      <th>1</th>\n",
       "      <td>2415 adams station apartment 910</td>\n",
       "      <td>north clydemouth</td>\n",
       "      <td>louisiana</td>\n",
       "      <td>35202</td>\n",
       "      <td>US</td>\n",
       "    </tr>\n",
       "    <tr>\n",
       "      <th>2</th>\n",
       "      <td>663 feest field</td>\n",
       "      <td>wilmerchester</td>\n",
       "      <td>illinois</td>\n",
       "      <td>772950882</td>\n",
       "      <td>US</td>\n",
       "    </tr>\n",
       "    <tr>\n",
       "      <th>3</th>\n",
       "      <td>41517 gislason plain apartment 394</td>\n",
       "      <td>juddville</td>\n",
       "      <td>texas</td>\n",
       "      <td>69059</td>\n",
       "      <td>US</td>\n",
       "    </tr>\n",
       "    <tr>\n",
       "      <th>4</th>\n",
       "      <td>5378 alisa walk</td>\n",
       "      <td>corrinestad</td>\n",
       "      <td>nevada</td>\n",
       "      <td>230627166</td>\n",
       "      <td>US</td>\n",
       "    </tr>\n",
       "    <tr>\n",
       "      <th>...</th>\n",
       "      <td>...</td>\n",
       "      <td>...</td>\n",
       "      <td>...</td>\n",
       "      <td>...</td>\n",
       "      <td>...</td>\n",
       "    </tr>\n",
       "    <tr>\n",
       "      <th>199</th>\n",
       "      <td>61148 cheyanne mount apartment 801</td>\n",
       "      <td>west chaya</td>\n",
       "      <td>tennessee</td>\n",
       "      <td>945539083</td>\n",
       "      <td>US</td>\n",
       "    </tr>\n",
       "    <tr>\n",
       "      <th>200</th>\n",
       "      <td>757 third avenue third floor</td>\n",
       "      <td>new york</td>\n",
       "      <td>newyork</td>\n",
       "      <td>10011</td>\n",
       "      <td>US</td>\n",
       "    </tr>\n",
       "    <tr>\n",
       "      <th>201</th>\n",
       "      <td>757 third avenue third floor</td>\n",
       "      <td>new york</td>\n",
       "      <td>newyork</td>\n",
       "      <td>10011</td>\n",
       "      <td>US</td>\n",
       "    </tr>\n",
       "    <tr>\n",
       "      <th>202</th>\n",
       "      <td>757 third avenue floor third</td>\n",
       "      <td>new york</td>\n",
       "      <td>newyork</td>\n",
       "      <td>10011</td>\n",
       "      <td>US</td>\n",
       "    </tr>\n",
       "    <tr>\n",
       "      <th>203</th>\n",
       "      <td>58 grosse strasse</td>\n",
       "      <td>munchen</td>\n",
       "      <td></td>\n",
       "      <td></td>\n",
       "      <td>US</td>\n",
       "    </tr>\n",
       "  </tbody>\n",
       "</table>\n",
       "<p>204 rows × 5 columns</p>\n",
       "</div>"
      ],
      "text/plain": [
       "                               address1              city       state  \\\n",
       "0     73379 pfeffer lodge apartment 730      giovannyfurt  california   \n",
       "1      2415 adams station apartment 910  north clydemouth   louisiana   \n",
       "2                       663 feest field     wilmerchester    illinois   \n",
       "3    41517 gislason plain apartment 394         juddville       texas   \n",
       "4                       5378 alisa walk       corrinestad      nevada   \n",
       "..                                  ...               ...         ...   \n",
       "199  61148 cheyanne mount apartment 801        west chaya   tennessee   \n",
       "200        757 third avenue third floor          new york     newyork   \n",
       "201        757 third avenue third floor          new york     newyork   \n",
       "202        757 third avenue floor third          new york     newyork   \n",
       "203                   58 grosse strasse           munchen               \n",
       "\n",
       "    postalcode country  \n",
       "0        37698      US  \n",
       "1        35202      US  \n",
       "2    772950882      US  \n",
       "3        69059      US  \n",
       "4    230627166      US  \n",
       "..         ...     ...  \n",
       "199  945539083      US  \n",
       "200      10011      US  \n",
       "201      10011      US  \n",
       "202      10011      US  \n",
       "203                 US  \n",
       "\n",
       "[204 rows x 5 columns]"
      ]
     },
     "execution_count": 17,
     "metadata": {},
     "output_type": "execute_result"
    }
   ],
   "source": [
    "df2"
   ]
  }
 ],
 "metadata": {
  "kernelspec": {
   "display_name": "Python 3.10.5 64-bit",
   "language": "python",
   "name": "python3"
  },
  "language_info": {
   "codemirror_mode": {
    "name": "ipython",
    "version": 3
   },
   "file_extension": ".py",
   "mimetype": "text/x-python",
   "name": "python",
   "nbconvert_exporter": "python",
   "pygments_lexer": "ipython3",
   "version": "3.10.5"
  },
  "orig_nbformat": 4,
  "vscode": {
   "interpreter": {
    "hash": "bd13c736c66bc60e0848a3b0e38e8b3f46a2a68fa6d3cd3a5816507eff34e30f"
   }
  }
 },
 "nbformat": 4,
 "nbformat_minor": 2
}
