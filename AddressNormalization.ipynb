{
 "cells": [
  {
   "attachments": {},
   "cell_type": "markdown",
   "metadata": {},
   "source": [
    "### Install the required modules and import them"
   ]
  },
  {
   "cell_type": "code",
   "execution_count": null,
   "metadata": {},
   "outputs": [],
   "source": [
    "%pip install translitcodec\n",
    "#%pip install codecs\n",
    "%pip install pandas\n",
    "%pip install numpy\n",
    "%pip install number-parser"
   ]
  },
  {
   "cell_type": "code",
   "execution_count": 3,
   "metadata": {},
   "outputs": [],
   "source": [
    "import translitcodec\n",
    "import codecs\n",
    "from number_parser import parse\n",
    "import pandas as pd\n",
    "import numpy as np\n",
    "import re\n"
   ]
  },
  {
   "attachments": {},
   "cell_type": "markdown",
   "metadata": {},
   "source": [
    "### Prepare a standardization function\n",
    "- Trim spaces\n",
    "- Transliterate to ASCII/Latin\n",
    "- Convert to Lowercase"
   ]
  },
  {
   "cell_type": "code",
   "execution_count": null,
   "metadata": {},
   "outputs": [],
   "source": [
    "#---------------------------------------------------------------------------------------------------\n",
    "def Standardize_Text(x):\n",
    "    \"\"\"Standardize text by trimming, transliterating, and converting to lowercase\"\"\"\n",
    "    return codecs.encode(x.strip(),\"translit/short\").lower()\n",
    "#---------------------------------------------------------------------------------------------------"
   ]
  },
  {
   "attachments": {},
   "cell_type": "markdown",
   "metadata": {},
   "source": [
    "### Normalize Countries\n",
    "- Strip spaces, periods, parentheses\n",
    "- Map to a country dictionary"
   ]
  },
  {
   "cell_type": "code",
   "execution_count": null,
   "metadata": {},
   "outputs": [],
   "source": [
    "#---------------------------------------------------------------------------------------------------\n",
    "country_canon = {\"afghanistan\":\"af\",\"albania\":\"al\",\"algeria\":\"dz\",\"americansamoa\":\"as\",\"andorra\":\"ad\",\"angola\":\"ao\",\"anguilla\":\"AI\",\n",
    "    \"antarctica\":\"AQ\",\"antigua\":\"AG\",\"barbuda\":\"AG\",\"antiguaandbarbuda\":\"AG\",\"argentina\":\"AR\",\"armenia\":\"AM\",\"aruba\":\"AW\",\n",
    "    \"australia\":\"AU\",\"austria\":\"AT\",\"azerbaijan\":\"AZ\",\"bahamas\":\"BS\",\"bahrain\":\"BH\",\"bangladesh\":\"BD\",\"barbados\":\"BB\",\"belarus\":\"BY\",\n",
    "    \"belgium\":\"BE\",\"belize\":\"BZ\",\"benin\":\"BJ\",\"bermuda\":\"BM\",\"bhutan\":\"BT\",\"bolivia\":\"BO\",\"boliviaplurinationalstateof\":\"BO\",\n",
    "    \"bonaire\":\"BQ\",\"sinteustatius\":\"BQ\",\"saba\":\"BQ\",\"bonaire, sinteustatiusandsaba\":\"BQ\",\"bosnia\":\"BA\",\"bosniaandherzegovina\":\"BA\",\n",
    "    \"herzegovina\":\"BA\",\"botswana\":\"BW\",\"bouvetisland\":\"BV\",\"brazil\":\"BR\",\"britishindianoceanterritory\":\"IO\",\"brunei\":\"BN\",\n",
    "    \"bruneidarussalam\":\"BN\",\"bulgaria\":\"BG\",\"burkinafaso\":\"BF\",\"burundi\":\"BI\",\"cambodia\":\"KH\",\"cameroon\":\"CM\",\"canada\":\"CA\",\n",
    "    \"capeverde\":\"CV\",\"caymanislands\":\"KY\",\"centralafricanrepublic\":\"CF\",\"chad\":\"TD\",\"chile\":\"CL\",\"china\":\"CN\",\"christmasisland\":\"CX\",\n",
    "    \"cocosislands\":\"CC\",\"keelingislands\":\"CC\",\"cocoskeelingislands\":\"CC\",\"colombia\":\"CO\",\"comoros\":\"KM\",\"congo\":\"CG\",\n",
    "    \"congo, the democratic republic of the\":\"CD\",\"cook islands\":\"CK\",\"costa rica\":\"CR\",\"cotedivoire\":\"CI\",\"ivorycoast\":\"CI\",\"croatia\":\"HR\",\n",
    "    \"cuba\":\"CU\",\"curacao\":\"CW\",\"cyprus\":\"CY\",\"czechrepublic\":\"CZ\",\"denmark\":\"DK\",\"djibouti\":\"DJ\",\"dominica\":\"DM\",\n",
    "    \"dominicanrepublic\":\"DO\",\"ecuador\":\"EC\",\"egypt\":\"EG\",\"elalvador\":\"SV\",\"equatorialguinea\":\"GQ\",\"eritrea\":\"ER\",\"estonia\":\"EE\",\n",
    "    \"ethiopia\":\"ET\",\"falklandislands\":\"FK\",\"malvinas\":\"FK\",\"falklandislandsmalvinas\":\"FK\",\"faroeislands\":\"FO\",\"fiji\":\"FJ\",\n",
    "    \"finland\":\"FI\",\"france\":\"FR\",\"frenchguiana\":\"GF\",\"frenchpolynesia\":\"PF\",\"frenchsouthernterritories\":\"TF\",\"gabon\":\"GA\",\n",
    "    \"gambia\":\"GM\",\"georgia\":\"GE\",\"germany\":\"DE\",\"ghana\":\"GH\",\"gibraltar\":\"GI\",\"greece\":\"GR\",\"greenland\":\"GL\",\"grenada\":\"GD\",\n",
    "    \"guadeloupe\":\"GP\",\"guam\":\"GU\",\"guatemala\":\"GT\",\"guernsey\":\"GG\",\"guinea\":\"GN\",\"guineabissau\":\"GW\",\"guyana\":\"GY\",\n",
    "    \"haiti\":\"HT\",\"heardisland\":\"HM\",\"mcdonaldislands\":\"HM\",\"heardislandandmcdonaldislands\":\"HM\",\"holysee\":\"VA\",\n",
    "    \"vaticancitystate\":\"VA\",\"vaticancity\":\"VA\",\"holyseevaticancitystate\":\"VA\",\"honduras\":\"HN\",\"hongkong\":\"HK\",\"hungary\":\"HU\",\n",
    "    \"iceland\":\"IS\",\"india\":\"IN\",\"indonesia\":\"ID\",\"iran\":\"IR\",\"iranislamicrepublicof\":\"IR\",\"iraq\":\"IQ\",\"ireland\":\"IE\",\"isleofman\":\"IM\",\n",
    "    \"israel\":\"IL\",\"italy\":\"IT\",\"jamaica\":\"JM\",\"japan\":\"JP\",\"jersey\":\"JE\",\"jordan\":\"JO\",\"kazakhstan\":\"KZ\",\"kenya\":\"KE\",\"kiribati\":\"KI\",\n",
    "    \"nkorea\":\"KP\",\"northkorea\":\"KP\",\"koreademocraticpeoplesrepublicof\":\"KP\",\"korea\":\"KR\",\"skorea\":\"KR\",\"southkorea\":\"KR\",\n",
    "    \"korearepublicof\":\"KR\",\"kuwait\":\"KW\",\"kyrgyzstan\":\"KG\",\"lao\":\"LA\",\"laopeoplesdemocraticrepublic\":\"LA\",\"latvia\":\"LV\",\n",
    "    \"lebanon\":\"LB\",\"lesotho\":\"LS\",\"liberia\":\"LR\",\"libya\":\"LY\",\"liechtenstein\":\"LI\",\"lithuania\":\"LT\",\"luxembourg\":\"LU\",\"macau\":\"MO\",\n",
    "    \"macao\":\"MO\",\"macedonia\":\"MK\",\"macedoniarepublicof\":\"MK\",\"madagascar\":\"MG\",\"malawi\":\"MW\",\"malaysia\":\"MY\",\"maldives\":\"MV\",\n",
    "    \"mali\":\"ML\",\"malta\":\"MT\",\"marshallislands\":\"MH\",\"martinique\":\"MQ\",\"mauritania\":\"MR\",\"mauritius\":\"MU\",\"mayotte\":\"YT\",\"mexico\":\"MX\",\n",
    "    \"micronesia\":\"FM\",\"micronesiafederatedstatesof\":\"FM\",\"moldova\":\"MD\",\"moldovarepublicof\":\"MD\",\"monaco\":\"MC\",\"mongolia\":\"MN\",\n",
    "    \"montenegro\":\"ME\",\"montserrat\":\"MS\",\"morocco\":\"MA\",\"mozambique\":\"MZ\",\"myanmar\":\"MM\",\"namibia\":\"NA\",\"nauru\":\"NR\",\"nepal\":\"NP\",\n",
    "    \"nederlands\":\"NL\",\"thenetherlands\":\"NL\",\"holland\":\"NL\",\"netherlands\":\"NL\",\"newcaledonia\":\"NC\",\"newzealand\":\"NZ\",\"nicaragua\":\"NI\",\n",
    "    \"niger\":\"NE\",\"nigeria\":\"NG\",\"niue\":\"NU\",\"norfolkisland\":\"NF\",\"nmarianaislands\":\"MP\",\"northernmarianaislands\":\"MP\",\"norway\":\"NO\",\n",
    "    \"oman\":\"OM\",\"pakistan\":\"PK\",\"palau\":\"PW\",\"palestine\":\"PS\",\"palestinianterritory\":\"PS\",\"palestinianterritoryoccupied\":\"PS\",\n",
    "    \"panama\":\"PA\",\"papuanewguinea\":\"PG\",\"paraguay\":\"PY\",\"peru\":\"PE\",\"philippines\":\"PH\",\"pitcairn\":\"PN\",\"poland\":\"PL\",\"portugal\":\"PT\",\n",
    "    \"puertorico\":\"PR\",\"qatar\":\"QA\",\"reunion\":\"RE\",\"romania\":\"RO\",\"russia\":\"RU\",\"russianfederation\":\"RU\",\"rwanda\":\"RW\",\n",
    "    \"stbarthelemy\":\"BL\",\"saintbarthelemy\":\"BL\",\"sainthelena\":\"SH\",\"sthelena\":\"SH\",\"ascension\":\"SH\",\"tristandacunha\":\"SH\",\n",
    "    \"sainthelenaascensionandtristandacunha\":\"SH\",\"stkitts\":\"KN\",\"saintkitts\":\"KN\",\"nevis\":\"KN\",\"saintkittsandnevis\":\"KN\",\n",
    "    \"stlucia\":\"LC\",\"saintlucia\":\"LC\",\"saintmartin\":\"MF\",\"stmartin\":\"MF\",\"saintmartinfrenchpart\":\"MF\",\"st pierre\":\"PM\",\n",
    "    \"saintpierre\":\"PM\",\"miquelon\":\"PM\",\"saintpierreandmiquelon\":\"PM\",\"stvincentandthegrenadines\":\"VC\",\n",
    "    \"saintvincentandthegrenadines\":\"VC\",\"samoa\":\"WS\",\"sanmarino\":\"SM\",\"saotomeandprincipe\":\"ST\",\"saudiarabia\":\"SA\",\"senegal\":\"SN\",\n",
    "    \"serbia\":\"RS\",\"seychelles\":\"SC\",\"sierraleone\":\"SL\",\"singapore\":\"SG\",\"stmaarten\":\"SX\",\"sintmaarten\":\"SX\",\n",
    "    \"sintmaartendutchpart\":\"SX\",\"slovakia\":\"SK\",\"slovenia\":\"SI\",\"solomonislands\":\"SB\",\"somalia\":\"SO\",\"safrica\":\"ZA\",\n",
    "    \"southafrica\":\"ZA\",\"sgeorgia\":\"GS\",\"southgeorgia\":\"GS\",\"ssandwichislands\":\"GS\",\"southsandwichislands\":\"GS\",\n",
    "    \"southgeorgiaandthesouthsandwichislands\":\"GS\",\"spain\":\"ES\",\"srilanka\":\"LK\",\"sudan\":\"SD\",\"suriname\":\"SR\",\"ssudan\":\"SS\",\n",
    "    \"southsudan\":\"SS\",\"svalbard\":\"SJ\",\"janmayen\":\"SJ\",\"svalbardandjanmayen\":\"SJ\",\"swaziland\":\"SZ\",\"sweden\":\"SE\",\"switzerland\":\"CH\",\n",
    "    \"syria\":\"SY\",\"syrian arab republic\":\"SY\",\"taiwan\":\"TW\",\"taiwan, province of china\":\"TW\",\"tajikistan\":\"TJ\",\"tanzania\":\"TZ\",\n",
    "    \"tanzaniaunitedrepublicof\":\"TZ\",\"thailand\":\"TH\",\"timorleste\":\"TL\",\"togo\":\"TG\",\"tokelau\":\"TK\",\"tonga\":\"TO\",\"trinidad\":\"TT\",\n",
    "    \"tobago\":\"TT\",\"trinidadandtobago\":\"TT\",\"tunisia\":\"TN\",\"turkiye\":\"TR\",\"turkey\":\"TR\",\"turkmenistan\":\"TM\",\n",
    "    \"turksandcaicosislands\":\"TC\",\"tuvalu\":\"TV\",\"uganda\":\"UG\",\"ukraine\":\"UA\",\"uae\":\"AE\",\"unitedarabemirates\":\"AE\",\n",
    "    \"unitedkingdom\":\"GB\",\"uk\":\"GB\",\"gbr\":\"uk\",\"greatbritain\":\"GB\",\"england\":\"GB\",\"scotland\":\"GB\",\"wales\":\"GB\",\"northernireland\":\"GB\",\n",
    "    \"nireland\":\"GB\",\"unitedstates\":\"US\",\"usa\":\"US\",\"unitedstatesofamerica\":\"US\",\"usminoroutlyingislands\":\"UM\",\n",
    "    \"unitedstatesminoroutlyingislands\":\"UM\",\"uruguay\":\"UY\",\"uzbekistan\":\"UZ\",\"vanuatu\":\"VU\",\"venezuela\":\"VE\",\n",
    "    \"venezuelabolivarianrepublicof\":\"VE\",\"vietnam\":\"VN\",\"britishvirginislands\":\"VG\",\"bvi\":\"VG\",\n",
    "    \"virginislandsbritish\":\"VG\",\"usvirginislands\":\"VI\",\"usvi\":\"VI\",\"virginislands\":\"VI\",\"wallisandfutuna\":\"WF\",\n",
    "    \"yemen\":\"YE\",\"zambia\":\"ZM\",\"zimbabwe\":\"ZW\"}\n",
    "#---------------------------------------------------------------------------------------------------\n",
    "# Remove commas, spaces, parentheses, periods, dashes, and apostrophes\n",
    "CountryTrans = str.maketrans(r\"\",r\"\",r\",. ()-'\") \n",
    "#---------------------------------------------------------------------------------------------------\n",
    "def Normalize_Country( country, default_country='us' ):\n",
    "    \"\"\"Normalization process for countries, converts to their ISO-3166-2 code. Defaults to 'us'\"\"\"\n",
    "    stripped_country = country.translate(CountryTrans)\n",
    "    mapped_country = country_canon.get(stripped_country,country)\n",
    "    return (mapped_country or default_country).lower()\n",
    "#---------------------------------------------------------------------------------------------------"
   ]
  },
  {
   "cell_type": "code",
   "execution_count": null,
   "metadata": {},
   "outputs": [],
   "source": [
    "Normalize_Country('uzbekistan')"
   ]
  },
  {
   "attachments": {},
   "cell_type": "markdown",
   "metadata": {},
   "source": [
    "### Normalize States\n",
    "- Remove periods, spaces\n",
    "- Convert from dictionary"
   ]
  },
  {
   "cell_type": "code",
   "execution_count": null,
   "metadata": {},
   "outputs": [],
   "source": [
    "#---------------------------------------------------------------------------------------------------\n",
    "dict_States = {\"alabama\":\"al\",\"alaska\":\"ak\",\"arizona\":\"az\",\"arkansas\":\"ar\",\"california\":\"ca\",\"colorado\":\"co\",\"connecticut\":\"ct\",\"delaware\":\"de\",\n",
    "    \"florida\":\"fl\",\"georgia\":\"ga\",\"hawaii\":\"hi\",\"idaho\":\"id\",\"illinois\":\"il\",\"indiana\":\"in\",\"iowa\":\"ia\",\"kansas\":\"ks\",\"kentucky\":\"ky\",\n",
    "    \"louisiana\":\"la\",\"maine\":\"me\",\"maryland\":\"md\",\"massachusetts\":\"ma\",\"michigan\":\"mi\",\"minnesota\":\"mn\",\"mississippi\":\"ms\",\"missouri\":\"mo\",\n",
    "    \"montana\":\"mt\",\"nebraska\":\"ne\",\"nevada\":\"nv\",\"newhampshire\":\"nh\",\"newjersey\":\"nj\",\"newmexico\":\"nm\",\"newyork\":\"ny\",\"northcarolina\":\"nc\",\n",
    "    \"northdakota\":\"nd\",\"ohio\":\"oh\",\"oklahoma\":\"ok\",\"oregon\":\"or\",\"pennsylvania\":\"pa\",\"rhodeisland\":\"ri\",\"southcarolina\":\"sc\",\n",
    "    \"southdakota\":\"sd\",\"tennessee\":\"tn\",\"texas\":\"tx\",\"utah\":\"ut\",\"vermont\":\"vt\",\"virginia\":\"va\",\"washington\":\"wa\",\"westvirginia\":\"wv\",\n",
    "    \"wisconsin\":\"wi\",\"wyoming\":\"wy\",\"districtofcolumbia\":\"dc\",\"americansamoa\":\"as\",\"guam\":\"gu\",\"northernmarianaislands\":\"mp\",\n",
    "    \"puertorico\":\"pr\",\"unitedstatesminoroutlyingislands\":\"um\",\"usvirginislands\":\"vi\",\n",
    "    \"ncarolina\":\"nc\",\"ndakota\":\"nd\",\"scarolina\":\"sc\",\"sdakota\":\"sd\",\"wvirginia\":\"wv\",\n",
    "    \"ontario\":\"on\",\"quebec\":\"qc\",\"novascotia\":\"ns\",\"newbrunswick\":\"nb\",\"manitoba\":\"mb\",\"britishcolumbia\":\"bc\",\"princeedwardisland\":\"pe\",\n",
    "    \"saskatchewan\":\"sk\",\"alberta\":\"ab\",\"newfoundlandandlabrador\":\"nl\",\n",
    "    \"qb\":\"qc\",\"pq\":\"qc\",\"newfoundland\":\"nl\",\"labrador\":\"nl\",\"ont\":\"on\"\n",
    "}\n",
    "dict_State_Values = dict_States.values()\n",
    "#---------------------------------------------------------------------------------------------------\n",
    "StateTrans = str.maketrans(r\"\",r\"\",r\". \") \n",
    "#---------------------------------------------------------------------------------------------------\n",
    "def Normalize_State( state ):\n",
    "    stripped_state = state.translate(StateTrans)\n",
    "    mapped_state = stripped_state if stripped_state in dict_State_Values else dict_States.get(stripped_state,state)\n",
    "    return (mapped_state or state).lower()\n",
    "#---------------------------------------------------------------------------------------------------"
   ]
  },
  {
   "cell_type": "code",
   "execution_count": null,
   "metadata": {},
   "outputs": [],
   "source": [
    "Normalize_State(\"ont.\")"
   ]
  },
  {
   "attachments": {},
   "cell_type": "markdown",
   "metadata": {},
   "source": [
    "### Normalize postcodes\n",
    "* strip spaces, dashes"
   ]
  },
  {
   "cell_type": "code",
   "execution_count": null,
   "metadata": {},
   "outputs": [],
   "source": [
    "#---------------------------------------------------------------------------------------------------\n",
    "postcode_translations = str.maketrans(r\"\",r\"\",r\"- \")\n",
    "#---------------------------------------------------------------------------------------------------\n",
    "def Normalize_Postcodes( postcode ):\n",
    "    stripped_postcode = postcode.translate( postcode_translations )\n",
    "    return stripped_postcode\n",
    "#---------------------------------------------------------------------------------------------------"
   ]
  },
  {
   "attachments": {},
   "cell_type": "markdown",
   "metadata": {},
   "source": [
    "### Normalize address lines\n",
    "- Strip characters\n",
    "- parse to convert number words to numbers\n",
    "- regex to remove ordinals\n",
    "- tokenize to words\n",
    "- remove stop words\n",
    "- abbreviate"
   ]
  },
  {
   "cell_type": "code",
   "execution_count": 23,
   "metadata": {},
   "outputs": [],
   "source": [
    "### Normalize Address lines\n",
    "#---------------------------------------------------------------------------------------------------\n",
    "address_line_translations = str.maketrans(  r\"().,-:\",\\\n",
    "                                            r\"      \",\\\n",
    "                                            r\"\")\n",
    "#---------------------------------------------------------------------------------------------------\n",
    "address_dict={\"avenue\":\"ave\",\"floor\":\"fl\",\"north\":\"n\",\"terrace\":\"terr\"} \n",
    "address_stopwords=[\"the\",\"and\",\"of\",\"c/o\",\"attention\",\"attn\"]\n",
    "#---------------------------------------------------------------------------------------------------\n",
    "def Normalize_Address_Line( address ):\n",
    "    tokens = re.sub(r\"(?<=[0-9])(?:st|nd|rd|th)\",\"\",parse( address.translate( address_line_translations ) ),0, re.MULTILINE ).split()\n",
    "    tokens2 = [address_dict.get(token, token) for token in tokens]\n",
    "    tokens3 = [token for token in tokens2 if token not in address_stopwords]\n",
    "    print(f\"{0} -> {1} -> {2} -> {3}\", address, tokens, tokens2, tokens3)\n",
    "    return ' '.join(tokens3)\n",
    "#    return ' '.join([token for token in tokens if token not in address_stopwords])\n",
    "\n",
    "#---------------------------------------------------------------------------------------------------\n",
    "#---------------------------------------------------------------------------------------------------\n",
    "#---------------------------------------------------------------------------------------------------\n"
   ]
  },
  {
   "cell_type": "code",
   "execution_count": 28,
   "metadata": {},
   "outputs": [
    {
     "data": {
      "text/plain": [
       "'543 North Terrace Avenue'"
      ]
     },
     "execution_count": 28,
     "metadata": {},
     "output_type": "execute_result"
    }
   ],
   "source": [
    "#Normalize_Address_Line(\"757 third avenue, the 3rd floor\")\n",
    "Normalize_Address_Line(\"543 North Terrace Avenue\")\n",
    "#Normalize_Address_Line(\"757 3rd ave third floor\")\n"
   ]
  }
 ],
 "metadata": {
  "kernelspec": {
   "display_name": "Python 3",
   "language": "python",
   "name": "python3"
  },
  "language_info": {
   "codemirror_mode": {
    "name": "ipython",
    "version": 3
   },
   "file_extension": ".py",
   "mimetype": "text/x-python",
   "name": "python",
   "nbconvert_exporter": "python",
   "pygments_lexer": "ipython3",
   "version": "3.9.6"
  },
  "orig_nbformat": 4
 },
 "nbformat": 4,
 "nbformat_minor": 2
}
